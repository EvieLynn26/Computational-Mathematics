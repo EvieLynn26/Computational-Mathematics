{
  "nbformat": 4,
  "nbformat_minor": 0,
  "metadata": {
    "colab": {
      "provenance": []
    },
    "kernelspec": {
      "name": "python3",
      "display_name": "Python 3"
    },
    "language_info": {
      "name": "python"
    }
  },
  "cells": [
    {
      "cell_type": "markdown",
      "source": [
        "**Minimum Residual**\n",
        "\n",
        "Метод MINRES - это итерационный метод для решения систем линейных уравнений вида $Ax=b$ для spd матриц.\n",
        "\n",
        "MINRES основан на минимизации невязки (residual) $Ax - b$ в пространстве Крылова. "
      ],
      "metadata": {
        "id": "t2fEY95k_faM"
      }
    },
    {
      "cell_type": "markdown",
      "source": [
        "Алгоритм метода MINRES можно описать следующим образом:\n",
        "\n",
        "Начальное приближение $x_0$ задается произвольно, например, вектором нулей.\n",
        "Вычисляются начальные значения $r_0 = b - Ax_0$ и $p_0 = r_0$.\n",
        "Далее происходит итерационный процесс. На каждой итерации k вычисляются:\n",
        "$\\alpha_{k-1} = \\frac{(Ap_{k-1}, r_{k-1})}{(Ap_{k-1}, Ap_{k-1})}$, где $(u, v)$ -- скалярное произведение векторов $u$ и $v$.\n",
        "\n",
        "$x_k = x_{k-1} + \\alpha_{k-1} p_{k-1}$.\n",
        "$r_k = r_{k-1} - \\alpha_{k-1} A p_{k-1}$.\n",
        "\n",
        "Если $||r_k||_2 < ɛ$, где $ɛ$ - заданная точность, алгоритм останавливается.\n",
        "$\\beta_k = \\frac{(Ap_k, r_k)}{(Ap_{k-1}, Ap_{k-1})}$.\n",
        "\n",
        "$p_k = r_k - \\beta_k p_{k-1}$.\n",
        "\n",
        "В результате итерационного процесса получается приближенное решение $x_k$.\n",
        "Основной идеей метода MINRES является минимизация нормы невязки $||r_k||_2$ в пространстве Крылова размерности $k$. Это достигается путем построения последовательности векторов $p_k$, которая является ортогональной векторам пространства Крылова."
      ],
      "metadata": {
        "id": "VMF3ENdq-u7u"
      }
    },
    {
      "cell_type": "code",
      "source": [
        "import numpy as np\n",
        "\n",
        "def minres(A, b, x0, max_iter, tol):\n",
        "    n = len(b)\n",
        "    x = x0.copy()\n",
        "    r = b - A.dot(x)\n",
        "    p = r.copy()\n",
        "    Ap = A.dot(p)\n",
        "    alpha = np.zeros(max_iter)\n",
        "    beta = np.zeros(max_iter)\n",
        "    norm_r = np.linalg.norm(r)\n",
        "    for k in range(max_iter):\n",
        "        alpha[k] = np.dot(Ap, r) / np.dot(Ap, Ap)\n",
        "        x += alpha[k] * p\n",
        "        r -= alpha[k] * Ap\n",
        "        norm_r = np.linalg.norm(r)\n",
        "        if norm_r < tol:\n",
        "            break\n",
        "        beta[k] = -np.dot(Ap, r) / np.dot(Ap, Ap)\n",
        "        p = r + beta[k] * p\n",
        "        Ap = A.dot(p)\n",
        "    return x\n"
      ],
      "metadata": {
        "id": "T7IO0s-ZE5oc"
      },
      "execution_count": 1,
      "outputs": []
    },
    {
      "cell_type": "code",
      "source": [
        "import numpy as np\n",
        "import matplotlib.pyplot as plt\n",
        "\n",
        "def gen_matrix(n):\n",
        "    A = np.random.rand(n, n)\n",
        "    b = np.random.rand(n)\n",
        "    return A, b\n",
        "\n",
        "n_values = [100, 500, 1000]\n",
        "\n",
        "max_iter = 1000\n",
        "tol = 1e-6\n",
        "\n",
        "for n in n_values:\n",
        "    A, b = gen_matrix(n)\n",
        "    x0 = np.zeros(n)\n",
        "    x_minres = minres(A, b, x0, max_iter, tol)\n",
        "    r_minres = np.abs(b - A.dot(x_minres))\n",
        "    plt.semilogy(r_minres, label=f'n={n}')\n",
        "plt.xlabel('Количество итераций')\n",
        "plt.ylabel('Норма невязки')\n",
        "plt.title('Графики сходимости метода MINRES')\n",
        "plt.legend()\n",
        "plt.show()\n"
      ],
      "metadata": {
        "colab": {
          "base_uri": "https://localhost:8080/",
          "height": 295
        },
        "id": "Y9-oPmyqF848",
        "outputId": "50db20ef-f927-45f6-d1ad-2a9c8cbc3587"
      },
      "execution_count": 2,
      "outputs": [
        {
          "output_type": "display_data",
          "data": {
            "text/plain": [
              "<Figure size 432x288 with 1 Axes>"
            ],
            "image/png": "[encoded data removed]"
          },
          "metadata": {
            "needs_background": "light"
          }
        }
      ]
    },
    {
      "cell_type": "markdown",
      "source": [
        "MINRES требует меньше памяти, чем CG, что делает его более подходящим для решения больших систем уравнений."
      ],
      "metadata": {
        "id": "YxtJluiDA7s1"
      }
    },
    {
      "cell_type": "markdown",
      "source": [
        "**Conjugate_gradient_method**\n",
        "\n",
        "Этот метод используется для решения больших разреженных систем линейных уравнений.\n",
        "\n",
        "Начальное приближение $x_0$ и начальное направление спуска $d_0 = r_0 = b - A x_0$.\n",
        "Итерационно:\n",
        "\n",
        "* Вычислить коэффициент $\\alpha_k = \\frac{(r_k, r_k)}{(d_k, A d_k)}$\n",
        "\n",
        "* Вычислить новое приближение $x_{k+1} = x_k + \\alpha_k d_k$.\n",
        "\n",
        "* Вычислить новый остаток $r_{k+1} = r_k - \\alpha_k A d_k$.\n",
        "\n",
        "* Если $||r_{k+1}|| < tol$, где $tol$ - требуемая точность решения, завершить итерации и вернуть $x_{k+1}$.\n",
        "\n",
        "* Вычислить коэффициент $\\beta_k = \\frac{(r_{k+1}, r_{k+1})}{(r_k, r_k)}$.\n",
        "\n",
        "* Вычислить новое направление спуска $d_{k+1} = r_{k+1} + \\beta_k d_k$.\n",
        "\n",
        "Повторять шаг 2, пока не будет достигнуто требуемое условие сходимости."
      ],
      "metadata": {
        "id": "7TEHY28_GxCa"
      }
    },
    {
      "cell_type": "code",
      "source": [
        "import numpy as np\n",
        "\n",
        "def conjugate_gradient_iter(A, b, x0, max_iter=1000, tol=1e-6):\n",
        "    x = x0.copy()\n",
        "    r = b - A @ x\n",
        "    d = r.copy()\n",
        "    for i in range(max_iter):\n",
        "        alpha = np.dot(r, r) / np.dot(d, A @ d)\n",
        "        x = x + alpha * d\n",
        "        r_new = r - alpha * A @ d\n",
        "        \n",
        "    if np.linalg.norm(r_new) < tol:\n",
        "        return x\n",
        "    beta = np.dot(r_new, r_new) / np.dot(r, r)\n",
        "    d = r_new + beta * d\n",
        "    r = r_new\n",
        "    return x\n",
        "\n",
        "A = np.array([[4, -1, 0], [-1, 4, -1], [0, -1, 4]])\n",
        "b = np.array([5, 5, 5])\n",
        "x0 = np.zeros_like(b)\n",
        "x = conjugate_gradient_iter(A, b, x0)\n",
        "print(x)\n",
        "\n"
      ],
      "metadata": {
        "colab": {
          "base_uri": "https://localhost:8080/"
        },
        "id": "00Fp1PqSG02B",
        "outputId": "dee029a3-1f00-4f50-ba74-5f81a037fbe7"
      },
      "execution_count": 3,
      "outputs": [
        {
          "output_type": "stream",
          "name": "stdout",
          "text": [
            "[1875. 1875. 1875.]\n"
          ]
        }
      ]
    }
  ]
}