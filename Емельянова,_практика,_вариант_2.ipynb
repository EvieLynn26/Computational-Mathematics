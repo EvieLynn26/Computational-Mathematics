{
  "nbformat": 4,
  "nbformat_minor": 0,
  "metadata": {
    "colab": {
      "provenance": []
    },
    "kernelspec": {
      "name": "python3",
      "display_name": "Python 3"
    },
    "language_info": {
      "name": "python"
    }
  },
  "cells": [
    {
      "cell_type": "markdown",
      "source": [
        "Разложение Холецкого - это способ представления симметричной положительно определенной матрицы $A$ в виде произведения двух треугольных матриц: $A = L * L^T$, где $L$ - нижняя треугольная матрица с положительными элементами на диагонали."
      ],
      "metadata": {
        "id": "hs1ie3gn5osr"
      }
    },
    {
      "cell_type": "markdown",
      "source": [
        "---\n",
        "**Решение системы линейных уравнений**"
      ],
      "metadata": {
        "id": "FXUJ03YJ-9Yi"
      }
    },
    {
      "cell_type": "markdown",
      "source": [
        "Разложение Холецкого может быть использовано для решения систем линейных уравнений с симметричной положительно определенной матрицей $A$, поскольку система $Ax = b$ может быть переписана в виде $L L^T x = b$. Заменив $y = L^T x$, мы можем решить две системы линейных уравнений: $Ly = b$ и $L^T x = y$. Решать системы с нижней треугольной матрицей удобно методом обратной подстановки."
      ],
      "metadata": {
        "id": "2b3qTvTs-2n4"
      }
    },
    {
      "cell_type": "code",
      "execution_count": null,
      "metadata": {
        "colab": {
          "base_uri": "https://localhost:8080/",
          "height": 295
        },
        "id": "6Iy-m5zUW1TW",
        "outputId": "b72449c5-7c46-4a32-dafa-1073f27130cf"
      },
      "outputs": [
        {
          "output_type": "display_data",
          "data": {
            "text/plain": [
              "<Figure size 432x288 with 1 Axes>"
            ],
            "image/png": "[encoded data removed]"
          },
          "metadata": {
            "needs_background": "light"
          }
        }
      ],
      "source": [
        "import numpy as np\n",
        "import matplotlib.pyplot as plt\n",
        "\n",
        "\n",
        "def generate_positive_definite_matrix(n):\n",
        "    A = np.random.rand(n, n)\n",
        "    Q, _ = np.linalg.qr(A)\n",
        "    D = np.diag(np.random.rand(n))\n",
        "    return np.dot(Q, np.dot(D, Q.T))\n",
        "\n",
        "def choletsky(A, tol=1e-8):\n",
        "    n = len(A)\n",
        "    L = np.zeros((n, n))\n",
        "    \n",
        "    for i in range(n):\n",
        "        for j in range(i+1):\n",
        "            if j == i:\n",
        "                temp = A[i][i] - np.sum(np.square(L[i][:i]))\n",
        "                if temp < 0:\n",
        "                    raise ValueError(\"Matrix A is not positive definite\")\n",
        "                L[i][j] = np.sqrt(temp)\n",
        "            else:\n",
        "                L[i][j] = (A[i][j] - np.sum(L[i][:j]*L[j][:j])) / L[j][j]\n",
        "\n",
        "    # Проверяем правильность разложения с порогом tol\n",
        "    if np.linalg.norm(np.dot(L, L.T) - A) > tol:\n",
        "        print(\"Error: Choletsky decomposition is incorrect\")\n",
        "        return\n",
        "    \n",
        "    return L\n",
        "\n",
        "def solve(A, b):\n",
        "    L = choletsky(A)\n",
        "\n",
        "    # Решим Ly = b\n",
        "    n = len(b)\n",
        "    y = np.zeros(n)\n",
        "    if L[0][0] == 0:\n",
        "        raise ValueError(\"L[0][0] is zero\")\n",
        "    y[0] = b[0] / L[0][0]\n",
        "    for i in range(1, n):\n",
        "        if L[i][i] == 0:\n",
        "            raise ValueError(f\"L[{i}][{i}] is zero\")\n",
        "        y[i] = (b[i] - np.dot(L[i][:i], y[:i])) / L[i][i]\n",
        "        \n",
        "    # Решим L^Tx = y \n",
        "    x = np.zeros(n)\n",
        "    if L[n-1][n-1] == 0:\n",
        "        raise ValueError(\"L[n-1][n-1] is zero\")\n",
        "    x[n-1] = y[n-1] / L[n-1][n-1]\n",
        "    for i in range(n-2, -1, -1):\n",
        "        if L[i][i] == 0:\n",
        "            raise ValueError(f\"L[{i}][{i}] is zero\")\n",
        "        x[i] = (y[i] - np.dot(L[i+1:][:,i], x[i+1:])) / L[i][i]\n",
        "        \n",
        "    return x\n",
        "\n",
        "def main():\n",
        "    np.random.seed(0)\n",
        "    sizes = [5, 10, 20, 50, 100, 200, 500, 1000]\n",
        "    norm_diffs = []\n",
        "    \n",
        "    for n in sizes:\n",
        "        A = generate_positive_definite_matrix(n)\n",
        "        b = np.random.rand(n)\n",
        "        \n",
        "        L = choletsky(A)\n",
        "        x = solve(A, b)\n",
        "        x_np = np.linalg.solve(A, b)\n",
        "        \n",
        "        norm_diff = np.linalg.norm(x - x_np)\n",
        "        norm_diffs.append(norm_diff)\n",
        "        \n",
        "    plt.plot(sizes, norm_diffs)\n",
        "    plt.xlabel(\"Matrix size\")\n",
        "    plt.ylabel(\"Norm difference\")\n",
        "    plt.title(\"Choletsky decomposition vs np.linalg.solve\")\n",
        "    plt.show()\n",
        "        \n",
        "main()\n",
        "\n"
      ]
    },
    {
      "cell_type": "markdown",
      "source": [
        "---\n",
        "**Решение задачи наименьших квадратов**\n"
      ],
      "metadata": {
        "id": "r5N2JxiN5mzG"
      }
    },
    {
      "cell_type": "markdown",
      "source": [],
      "metadata": {
        "id": "TpldsrqfAiyg"
      }
    }
  ]
}